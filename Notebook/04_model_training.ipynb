{
 "cells": [
  {
   "cell_type": "markdown",
   "metadata": {},
   "source": [
    "# Model Training\n",
    "\n",
    "Train Logistic Regression, Random Forest, and XGBoost models, handling class imbalance with SMOTE."
   ]
  },
  {
   "cell_type": "code",
   "execution_count": 1,
   "metadata": {},
   "outputs": [
    {
     "name": "stderr",
     "output_type": "stream",
     "text": [
      "2025-09-11 02:39:45,567 - INFO - Data split: X_train shape (491, 15), X_test shape (123, 15)\n"
     ]
    }
   ],
   "source": [
    "import sys\n",
    "import os\n",
    "\n",
    "# go one level up (from Notebook/ to project root)\n",
    "sys.path.append(os.path.abspath(os.path.join(os.getcwd(), \"..\")))\n",
    "\n",
    "import pandas as pd\n",
    "from sklearn.model_selection import train_test_split\n",
    "from sklearn.linear_model import LogisticRegression\n",
    "from sklearn.ensemble import RandomForestClassifier\n",
    "from xgboost import XGBClassifier\n",
    "from imblearn.over_sampling import SMOTE\n",
    "from joblib import dump\n",
    "from src.config import PROCESSED_DATA_PATH, MODEL_DIR, TEST_SIZE, RANDOM_STATE, SMOTE_RANDOM_STATE\n",
    "from src.utils import log_info\n",
    "\n",
    "# Load engineered data\n",
    "data = pd.read_csv(PROCESSED_DATA_PATH.replace('.csv', '_engineered.csv'))\n",
    "X = data.drop('Loan_Status', axis=1)\n",
    "y = data['Loan_Status']\n",
    "X_train, X_test, y_train, y_test = train_test_split(X, y, test_size=TEST_SIZE, random_state=RANDOM_STATE)\n",
    "log_info(f'Data split: X_train shape {X_train.shape}, X_test shape {X_test.shape}')"
   ]
  },
  {
   "cell_type": "code",
   "execution_count": 2,
   "metadata": {},
   "outputs": [
    {
     "name": "stderr",
     "output_type": "stream",
     "text": [
      "2025-09-11 02:39:45,628 - INFO - SMOTE applied: X_train_smote shape (684, 15)\n"
     ]
    }
   ],
   "source": [
    "# Handle class imbalance with SMOTE\n",
    "smote = SMOTE(random_state=SMOTE_RANDOM_STATE)\n",
    "X_train_smote, y_train_smote = smote.fit_resample(X_train, y_train)\n",
    "log_info(f'SMOTE applied: X_train_smote shape {X_train_smote.shape}')"
   ]
  },
  {
   "cell_type": "code",
   "execution_count": 3,
   "metadata": {},
   "outputs": [
    {
     "name": "stderr",
     "output_type": "stream",
     "text": [
      "c:\\Users\\anxaa\\OneDrive\\Documents\\Github Project\\AI-Powered-Loan-Approval-Classifier-main\\AI-Powered-Loan-Approval-Classifier-main\\venv\\Lib\\site-packages\\sklearn\\linear_model\\_logistic.py:473: ConvergenceWarning: lbfgs failed to converge after 100 iteration(s) (status=1):\n",
      "STOP: TOTAL NO. OF ITERATIONS REACHED LIMIT\n",
      "\n",
      "Increase the number of iterations to improve the convergence (max_iter=100).\n",
      "You might also want to scale the data as shown in:\n",
      "    https://scikit-learn.org/stable/modules/preprocessing.html\n",
      "Please also refer to the documentation for alternative solver options:\n",
      "    https://scikit-learn.org/stable/modules/linear_model.html#logistic-regression\n",
      "  n_iter_i = _check_optimize_result(\n",
      "2025-09-11 02:39:46,356 - INFO - Models trained: LogisticRegression, RandomForest, XGBoost\n",
      "2025-09-11 02:39:46,484 - INFO - Models saved to models/ directory\n"
     ]
    }
   ],
   "source": [
    "# Train models\n",
    "log_model = LogisticRegression(random_state=RANDOM_STATE)\n",
    "rf_model = RandomForestClassifier(random_state=RANDOM_STATE)\n",
    "xgb_model = XGBClassifier(random_state=RANDOM_STATE, eval_metric='logloss')\n",
    "\n",
    "log_model.fit(X_train_smote, y_train_smote)\n",
    "rf_model.fit(X_train_smote, y_train_smote)\n",
    "xgb_model.fit(X_train_smote, y_train_smote)\n",
    "\n",
    "log_info('Models trained: LogisticRegression, RandomForest, XGBoost')\n",
    "\n",
    "# Save models\n",
    "dump(log_model, os.path.join(MODEL_DIR, 'logistic_regression.sav'))\n",
    "dump(rf_model, os.path.join(MODEL_DIR, 'random_forest.sav'))\n",
    "dump(xgb_model, os.path.join(MODEL_DIR, 'xgb_model.sav'))\n",
    "log_info('Models saved to models/ directory')"
   ]
  }
 ],
 "metadata": {
  "kernelspec": {
   "display_name": "venv",
   "language": "python",
   "name": "python3"
  },
  "language_info": {
   "codemirror_mode": {
    "name": "ipython",
    "version": 3
   },
   "file_extension": ".py",
   "mimetype": "text/x-python",
   "name": "python",
   "nbconvert_exporter": "python",
   "pygments_lexer": "ipython3",
   "version": "3.12.7"
  }
 },
 "nbformat": 4,
 "nbformat_minor": 5
}
