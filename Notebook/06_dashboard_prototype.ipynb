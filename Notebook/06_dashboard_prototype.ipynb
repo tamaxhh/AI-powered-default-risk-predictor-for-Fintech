{
 "cells": [
  {
   "cell_type": "markdown",
   "metadata": {},
   "source": [
    "# Dashboard Prototype\n",
    "\n",
    "Prototype a Streamlit dashboard for input form, prediction, probability, SHAP explanation, and data insights."
   ]
  },
  {
   "cell_type": "code",
   "execution_count": 2,
   "metadata": {},
   "outputs": [
    {
     "name": "stderr",
     "output_type": "stream",
     "text": [
      "UsageError: Line magic function `%%writefile` not found.\n"
     ]
    }
   ],
   "source": [
    "import sys\n",
    "import os\n",
    "\n",
    "# go one level up (from Notebook/ to project root)\n",
    "sys.path.append(os.path.abspath(os.path.join(os.getcwd(), \"..\")))\n",
    "\n",
    "%%writefile ../dashboard/streamlit_app.py\n",
    "import streamlit as st\n",
    "import pandas as pd\n",
    "import shap\n",
    "from joblib import load\n",
    "from src.config import MODEL_DIR, PROCESSED_DATA_PATH\n",
    "from src.utils import log_info\n",
    "\n",
    "# Load model and data\n",
    "xgb_model = load(os.path.join(MODEL_DIR, 'xgb_model.sav'))\n",
    "data = pd.read_csv(PROCESSED_DATA_PATH.replace('.csv', '_engineered.csv'))\n",
    "features = data.drop('Loan_Status', axis=1).columns\n",
    "\n",
    "st.title('Loan Default Risk Predictor')\n",
    "\n",
    "# Input form\n",
    "st.header('Enter Applicant Details')\n",
    "input_data = {}\n",
    "for feature in features:\n",
    "    if feature in ['Gender', 'Married', 'Dependents', 'Education', 'Self_Employed', 'Property_Area']:\n",
    "        options = sorted(data[feature].unique())\n",
    "        input_data[feature] = st.selectbox(feature, options)\n",
    "    else:\n",
    "        input_data[feature] = st.number_input(feature, min_value=0.0, value=float(data[feature].mean()))\n",
    "\n",
    "# Predict\n",
    "if st.button('Predict'):\n",
    "    input_df = pd.DataFrame([input_data])\n",
    "    pred = xgb_model.predict(input_df)[0]\n",
    "    prob = xgb_model.predict_proba(input_df)[0][1]\n",
    "    st.header('Prediction')\n",
    "    st.write(f'Loan Default Risk: {\"High\" if pred == 1 else \"Low\"}')\n",
    "    st.write(f'Probability of Default: {prob:.2%}')\n",
    "\n",
    "    # SHAP explanation\n",
    "    explainer = shap.TreeExplainer(xgb_model)\n",
    "    shap_values = explainer.shap_values(input_df)\n",
    "    st.header('SHAP Explanation')\n",
    "    shap.initjs()\n",
    "    st.pyplot(shap.force_plot(explainer.expected_value, shap_values[0], input_df, matplotlib=True))\n",
    "\n",
    "# Data insights\n",
    "st.header('Data Insights')\n",
    "st.write('Default Rate by Income Level')\n",
    "data['Income_Bin'] = pd.qcut(data['ApplicantIncome'], q=4, labels=['Low', 'Medium', 'High', 'Very High'])\n",
    "default_by_income = data.groupby('Income_Bin')['Loan_Status'].mean()\n",
    "st.bar_chart(default_by_income)\n",
    "log_info('Streamlit dashboard prototyped')"
   ]
  },
  {
   "cell_type": "code",
   "execution_count": null,
   "metadata": {},
   "outputs": [],
   "source": [
    "# Run the app (execute in terminal: streamlit run dashboard/streamlit_app.py)\n",
    "!streamlit run ../dashboard/streamlit_app.py"
   ]
  }
 ],
 "metadata": {
  "kernelspec": {
   "display_name": "venv",
   "language": "python",
   "name": "python3"
  },
  "language_info": {
   "codemirror_mode": {
    "name": "ipython",
    "version": 3
   },
   "file_extension": ".py",
   "mimetype": "text/x-python",
   "name": "python",
   "nbconvert_exporter": "python",
   "pygments_lexer": "ipython3",
   "version": "3.12.7"
  }
 },
 "nbformat": 4,
 "nbformat_minor": 5
}
